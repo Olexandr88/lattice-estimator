{
 "cells": [
  {
   "cell_type": "markdown",
   "id": "31d38da0",
   "metadata": {},
   "source": [
    "Notebook created: 2024-08-12 15:40:33  \n",
    "Generated from: docs/algorithms/lwe-primal.rst  "
   ]
  },
  {
   "cell_type": "markdown",
   "id": "d2800d46",
   "metadata": {},
   "source": [
    "\n",
    "<a id='lwe-primal-attacks'></a>"
   ]
  },
  {
   "cell_type": "markdown",
   "id": "cf014839",
   "metadata": {},
   "source": [
    "# LWE Primal Attacks\n",
    "\n",
    "We construct an (easy) example LWE instance:"
   ]
  },
  {
   "cell_type": "code",
   "execution_count": null,
   "id": "7e6ecfb0",
   "metadata": {
    "hide-output": false
   },
   "outputs": [],
   "source": [
    "from estimator import *\n",
    "params = LWE.Parameters(n=200, q=7981, Xs=ND.SparseTernary(384, 16), Xe=ND.CenteredBinomial(4))\n",
    "params"
   ]
  },
  {
   "cell_type": "markdown",
   "id": "ebed24c2",
   "metadata": {},
   "source": [
    "The simplest (and quickest to estimate) model is solving via uSVP and assuming the Geometric Series\n",
    "Assumption (GSA) [[Schnorr03]](../references.ipynb#schnorr03). The success condition was formulated in [[USENIX:ADPS16]](../references.ipynb#usenix-adps16) and\n",
    "studied/verified in [[AC:AGVW17]](../references.ipynb#ac-agvw17), [[C:DDGR20]](../references.ipynb#c-ddgr20), [[PKC:PosVir21]](../references.ipynb#pkc-posvir21). The treatment of small secrets is\n",
    "from [[ACISP:BaiGal14]](../references.ipynb#acisp-baigal14):"
   ]
  },
  {
   "cell_type": "code",
   "execution_count": null,
   "id": "d458d706",
   "metadata": {
    "hide-output": false
   },
   "outputs": [],
   "source": [
    "LWE.primal_usvp(params, red_shape_model=\"gsa\")"
   ]
  },
  {
   "cell_type": "markdown",
   "id": "4427a0dc",
   "metadata": {},
   "source": [
    "We get a similar result if we use the `GSA` simulator. We do not get the identical result because\n",
    "we optimize β and d separately:"
   ]
  },
  {
   "cell_type": "code",
   "execution_count": null,
   "id": "dbaf2653",
   "metadata": {
    "hide-output": false
   },
   "outputs": [],
   "source": [
    "LWE.primal_usvp(params, red_shape_model=Simulator.GSA)"
   ]
  },
  {
   "cell_type": "markdown",
   "id": "b68e43b2",
   "metadata": {},
   "source": [
    "To get a more precise answer we may use the CN11 simulator by Chen and Nguyen [[AC:CheNgu11]](../references.ipynb#ac-chengu11) (as\n",
    "implemented in FPyLLL\n",
    "<https://github.com/fplll/fpylll/blob/master/src/fpylll/tools/bkz_simulator.py>_):"
   ]
  },
  {
   "cell_type": "code",
   "execution_count": null,
   "id": "6a132e23",
   "metadata": {
    "hide-output": false
   },
   "outputs": [],
   "source": [
    "LWE.primal_usvp(params, red_shape_model=Simulator.CN11)"
   ]
  },
  {
   "cell_type": "markdown",
   "id": "036c57aa",
   "metadata": {},
   "source": [
    "We can then improve on this result by first preprocessing the basis with block size β followed by a\n",
    "single SVP call in dimension η [[RSA:LiuNgu13]](../references.ipynb#rsa-liungu13). We call this the BDD approach since this is\n",
    "essentially the same strategy as preprocessing a basis and then running a CVP solver:"
   ]
  },
  {
   "cell_type": "code",
   "execution_count": null,
   "id": "21560873",
   "metadata": {
    "hide-output": false
   },
   "outputs": [],
   "source": [
    "LWE.primal_bdd(params, red_shape_model=Simulator.CN11)"
   ]
  },
  {
   "cell_type": "markdown",
   "id": "d77fa647",
   "metadata": {},
   "source": [
    "We can improve these results further by exploiting the sparse secret in the hybrid attack\n",
    "[[C:HowgraveGraham07]](../references.ipynb#c-howgravegraham07) guessing ζ positions of the secret:"
   ]
  },
  {
   "cell_type": "code",
   "execution_count": null,
   "id": "e75cec78",
   "metadata": {
    "hide-output": false
   },
   "outputs": [],
   "source": [
    "LWE.primal_hybrid(params, red_shape_model=Simulator.CN11)"
   ]
  }
 ],
 "metadata": {
  "date": 1723477233.8368676,
  "filename": "lwe-primal.rst",
  "kernelspec": {
   "display_name": "SageMath",
   "language": "sage",
   "name": "sagemath"
  },
  "title": "LWE Primal Attacks"
 },
 "nbformat": 4,
 "nbformat_minor": 5
}