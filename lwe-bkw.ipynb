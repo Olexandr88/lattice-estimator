{
 "cells": [
  {
   "cell_type": "markdown",
   "id": "76491d87",
   "metadata": {},
   "source": [
    "Notebook created: 2023-02-23 15:54:29  \n",
    "Generated from: docs/algorithms/lwe-bkw.rst  "
   ]
  },
  {
   "cell_type": "markdown",
   "id": "5ed59a05",
   "metadata": {},
   "source": [
    "\n",
    "<a id='coded-bkw-for-lwe'></a>"
   ]
  },
  {
   "cell_type": "markdown",
   "id": "90cd8bad",
   "metadata": {},
   "source": [
    "# Coded-BKW for LWE\n",
    "\n",
    "We construct an example LWE instance:"
   ]
  },
  {
   "cell_type": "code",
   "execution_count": null,
   "id": "6f1cc7bb",
   "metadata": {
    "hide-output": false
   },
   "outputs": [],
   "source": [
    "from estimator import *\n",
    "params = LWE.Parameters(n=400, q=7981, Xs=ND.SparseTernary(384, 16), Xe=ND.CenteredBinomial(4), m=800)\n",
    "params"
   ]
  },
  {
   "cell_type": "markdown",
   "id": "cee1506b",
   "metadata": {},
   "source": [
    "and estimate the cost of Coded-BKW [[C:GuoJohSta15]](../references.ipynb#c-guojohsta15), [[C:KirFou15]](../references.ipynb#c-kirfou15):"
   ]
  },
  {
   "cell_type": "code",
   "execution_count": null,
   "id": "139aeb6e",
   "metadata": {
    "hide-output": false
   },
   "outputs": [],
   "source": [
    "LWE.coded_bkw(params)"
   ]
  },
  {
   "cell_type": "markdown",
   "id": "628c93ea",
   "metadata": {},
   "source": [
    "All BKW variants require *a lot* of samples. As called above, the algorithm will produce the required samples from what it is given, which increases the noise. Let’s pretend we have as many as we like:"
   ]
  },
  {
   "cell_type": "code",
   "execution_count": null,
   "id": "04396db9",
   "metadata": {
    "hide-output": false
   },
   "outputs": [],
   "source": [
    "LWE.coded_bkw(params.updated(m=2**100))"
   ]
  }
 ],
 "metadata": {
  "date": 1677167669.4310625,
  "filename": "lwe-bkw.rst",
  "kernelspec": {
   "display_name": "SageMath",
   "language": "sage",
   "name": "sagemath"
  },
  "title": "Coded-BKW for LWE"
 },
 "nbformat": 4,
 "nbformat_minor": 5
}