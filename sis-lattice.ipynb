{
 "cells": [
  {
   "cell_type": "markdown",
   "id": "3b4727cc",
   "metadata": {},
   "source": [
    "Notebook created: 2024-02-03 17:58:16  \n",
    "Generated from: docs/algorithms/sis-lattice.rst  "
   ]
  },
  {
   "cell_type": "markdown",
   "id": "3a320651",
   "metadata": {},
   "source": [
    "\n",
    "<a id='sis-lattice-attacks'></a>"
   ]
  },
  {
   "cell_type": "markdown",
   "id": "cd8a622c",
   "metadata": {},
   "source": [
    "# SIS Lattice Attacks\n",
    "\n",
    "We construct an (easy) example SIS instance:"
   ]
  },
  {
   "cell_type": "code",
   "execution_count": null,
   "id": "74d2570f",
   "metadata": {
    "hide-output": false
   },
   "outputs": [],
   "source": [
    "from estimator import *\n",
    "params = SIS.Parameters(n=113, q=2048, length_bound=512, norm=2)\n",
    "params"
   ]
  },
  {
   "cell_type": "markdown",
   "id": "c9cdc846",
   "metadata": {},
   "source": [
    "The simplest (and quickest to estimate) model is solving for the SIS instance with a euclidian norm length bound and assuming the Gaussian heuristic.Then, we can solve for the required root hermite factor [[EC:GamNgu08]](../references.ipynb#ec-gamngu08) that will guarantee BKZ outputs a short enough vector:"
   ]
  },
  {
   "cell_type": "code",
   "execution_count": null,
   "id": "c1ff2601",
   "metadata": {
    "hide-output": false
   },
   "outputs": [],
   "source": [
    "SIS.lattice(params)"
   ]
  },
  {
   "cell_type": "markdown",
   "id": "48f23d23",
   "metadata": {},
   "source": [
    "The exact reduction shape model does not matter when using euclidian norm bounds, as the required block size is calculated directly from the length bound.\n",
    "\n",
    "For infinity norm length bounds, we have two separate analyses. Both follow the same basic strategy. We use the worst case euclidian norm bound as a lower bound on the hardness. Then, we analyze the probability of obtaining a short vector where every coordinate meets the infinity norm constraint. When sqrt(m)*length_bound is less than the modulus q, we follow the analysis of the MATZOV report ([[MATZOV22]](../references.ipynb#matzov22) P.18). We simulate the cost of generating *many* short vectors and treat each coordinate of the vector as an i.i.d Gaussian random variable with standard deviation equal to the length(s) of these short vectors divided by the square root of the dimension.:"
   ]
  },
  {
   "cell_type": "code",
   "execution_count": null,
   "id": "8e576bcd",
   "metadata": {
    "hide-output": false
   },
   "outputs": [],
   "source": [
    "params = SIS.Parameters(n=113, q=2048, length_bound=50, norm=oo)\n",
    "SIS.lattice(params)"
   ]
  },
  {
   "cell_type": "markdown",
   "id": "82d8c5d4",
   "metadata": {},
   "source": [
    "When sqrt(m)*length_bound is **greater than** the modulus, we follow the analysis present in the NIST round 3 Dilithium specification ([[Dilithium21]](../references.ipynb#dilithium21) P.35). Here, since BKZ can now produce q vectors at the given length bound (which will always satisfy the bound), we explicitly account for the q-ary structure of the lattice. Every coordinate corresponding to a q-vector yields uniformly random values, while the middle region of the basis produces Gaussian random variables as above. To explicitly account for this q-ary structure, use the `ZGSA` simulator.:"
   ]
  },
  {
   "cell_type": "code",
   "execution_count": null,
   "id": "1151e578",
   "metadata": {
    "hide-output": false
   },
   "outputs": [],
   "source": [
    "SIS.lattice(params.updated(length_bound=70), red_shape_model=Simulator.ZGSA)"
   ]
  },
  {
   "cell_type": "markdown",
   "id": "ffc59c59",
   "metadata": {},
   "source": [
    "To get a more precise answer we may use the CN11 simulator by Chen and Nguyen [[AC:CheNgu11]](../references.ipynb#ac-chengu11) (as [implemented in FPyLLL](https://github.com/fplll/fpylll/blob/master/src/fpylll/tools/bkz_simulator.py)):"
   ]
  },
  {
   "cell_type": "code",
   "execution_count": null,
   "id": "9cceda32",
   "metadata": {
    "hide-output": false
   },
   "outputs": [],
   "source": [
    "SIS.lattice(params.updated(length_bound=70), red_shape_model=Simulator.CN11)"
   ]
  },
  {
   "cell_type": "markdown",
   "id": "e7c213d2",
   "metadata": {},
   "source": [
    "Another option is to simulate a rerandomization of the basis, such that the q-vectors are *forgotten*. This results in the `LGSA` simulator, where the short, unit vectors are still present in the basis. See Figure 12 in the Dilithium submission for an example. We can then improve on this result by first preprocessing the basis with block size β followed by a single SVP call in dimension η [[RSA:LiuNgu13]](../references.ipynb#rsa-liungu13)."
   ]
  },
  {
   "cell_type": "code",
   "execution_count": null,
   "id": "7f288fb7",
   "metadata": {
    "hide-output": false
   },
   "outputs": [],
   "source": [
    "SIS.lattice(params.updated(length_bound=70), red_shape_model=Simulator.LGSA)"
   ]
  },
  {
   "cell_type": "markdown",
   "id": "8a017388",
   "metadata": {},
   "source": [
    "**Note:** Currently, lattice attack estimation is only avalailable for euclidian (`2`) and infinity (`oo`) norms. `SIS.lattice()` will return a `NotImplementedError` if one of these two norms are not selected."
   ]
  }
 ],
 "metadata": {
  "date": 1706983096.933532,
  "filename": "sis-lattice.rst",
  "kernelspec": {
   "display_name": "SageMath",
   "language": "sage",
   "name": "sagemath"
  },
  "title": "SIS Lattice Attacks"
 },
 "nbformat": 4,
 "nbformat_minor": 5
}