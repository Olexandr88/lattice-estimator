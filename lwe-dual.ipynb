{
 "cells": [
  {
   "cell_type": "markdown",
   "id": "be0e27e6",
   "metadata": {},
   "source": [
    "Notebook created: 2023-11-23 09:16:22  \n",
    "Generated from: docs/algorithms/lwe-dual.rst  "
   ]
  },
  {
   "cell_type": "markdown",
   "id": "7bdf3d23",
   "metadata": {},
   "source": [
    "\n",
    "<a id='lwe-dual-attacks'></a>"
   ]
  },
  {
   "cell_type": "markdown",
   "id": "2c315b2d",
   "metadata": {},
   "source": [
    "# LWE Dual Attacks\n",
    "\n",
    "We construct an (easy) example LWE instance:"
   ]
  },
  {
   "cell_type": "code",
   "execution_count": null,
   "id": "f95c31a1",
   "metadata": {
    "hide-output": false
   },
   "outputs": [],
   "source": [
    "from estimator import *\n",
    "params = LWE.Parameters(n=200, q=7981, Xs=ND.SparseTernary(384, 16), Xe=ND.CenteredBinomial(4))\n",
    "params"
   ]
  },
  {
   "cell_type": "markdown",
   "id": "d4eb6f91",
   "metadata": {},
   "source": [
    "The simples (and quickest to estimate) algorithm is the “plain” dual attack as described in [[PQCBook:MicReg09]](../references.ipynb#pqcbook-micreg09):"
   ]
  },
  {
   "cell_type": "code",
   "execution_count": null,
   "id": "4c78def7",
   "metadata": {
    "hide-output": false
   },
   "outputs": [],
   "source": [
    "LWE.dual(params)"
   ]
  },
  {
   "cell_type": "markdown",
   "id": "92779107",
   "metadata": {},
   "source": [
    "We can improve these results by considering a dual hybrid attack as in [EC:Albrecht17,INDOCRYPT:EspJouKha20]_:"
   ]
  },
  {
   "cell_type": "code",
   "execution_count": null,
   "id": "6fd1952b",
   "metadata": {
    "hide-output": false
   },
   "outputs": [],
   "source": [
    "LWE.dual_hybrid(params)"
   ]
  },
  {
   "cell_type": "markdown",
   "id": "6796edf0",
   "metadata": {},
   "source": [
    "Further improvements are possible using a meet-in-the-middle approach [[EPRINT:CHHS19]](../references.ipynb#eprint-chhs19):"
   ]
  },
  {
   "cell_type": "code",
   "execution_count": null,
   "id": "2bfe1a38",
   "metadata": {
    "hide-output": false
   },
   "outputs": [],
   "source": [
    "LWE.dual_hybrid(params, mitm_optimization=True)"
   ]
  }
 ],
 "metadata": {
  "date": 1700730982.8283439,
  "filename": "lwe-dual.rst",
  "kernelspec": {
   "display_name": "SageMath",
   "language": "sage",
   "name": "sagemath"
  },
  "title": "LWE Dual Attacks"
 },
 "nbformat": 4,
 "nbformat_minor": 5
}