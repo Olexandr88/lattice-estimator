{
 "cells": [
  {
   "cell_type": "markdown",
   "id": "091979ea",
   "metadata": {},
   "source": [
    "Notebook created: 2023-02-12 10:21:39  \n",
    "Generated from: docs/prompt.rst  "
   ]
  },
  {
   "cell_type": "markdown",
   "id": "df3feefc",
   "metadata": {},
   "source": [
    "# Lattice Estimator\n",
    "\n",
    "If you use this estimator in your work, please cite\n",
    "\n",
    "> Martin R. Albrecht, Rachel Player and Sam Scott. *On the concrete hardness of Learning with Errors*.Journal of Mathematical Cryptology. Volume 9, Issue 3, Pages 169–203, ISSN (Online) 1862-2984,ISSN (Print) 1862-2976 DOI: 10.1515/jmc-2015-0016, October 2015\n",
    "A pre-print is available as\n",
    "\n",
    "> Cryptology ePrint Archive, Report 2015/046, 2015. [https://eprint.iacr.org/2015/046](https://eprint.iacr.org/2015/046)\n",
    "\n",
    "\n",
    "An updated version of the material covered in the above survey is available in\n",
    "[Rachel Player’s PhD thesis](https://pure.royalholloway.ac.uk/portal/files/29983580/2018playerrphd.pdf)."
   ]
  },
  {
   "cell_type": "code",
   "execution_count": null,
   "id": "197db601",
   "metadata": {
    "hide-output": false
   },
   "outputs": [],
   "source": [
    "# import\n",
    "from estimator import *"
   ]
  },
  {
   "cell_type": "code",
   "execution_count": null,
   "id": "9b13450e",
   "metadata": {
    "hide-output": false
   },
   "outputs": [],
   "source": [
    "Logging.set_level(Logging.LEVEL0)"
   ]
  }
 ],
 "metadata": {
  "date": 1676197299.0696404,
  "filename": "prompt.rst",
  "kernelspec": {
   "display_name": "SageMath",
   "language": "sage",
   "name": "sagemath"
  },
  "title": "Lattice Estimator"
 },
 "nbformat": 4,
 "nbformat_minor": 5
}